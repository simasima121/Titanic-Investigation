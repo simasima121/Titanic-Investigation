{
 "cells": [
  {
   "cell_type": "markdown",
   "metadata": {},
   "source": [
    "# Data Analyst Nanodegree \n",
    "# Project 2: Investigating a dataset"
   ]
  },
  {
   "cell_type": "markdown",
   "metadata": {},
   "source": [
    "For the final project, you will conduct your own data analysis and create a file to share that documents your findings. You should start by taking a look at your dataset and brainstorming what questions you could answer using it. Then you should use Pandas and NumPy to answer the questions you are most interested in, and create a report sharing the answers. You will not be required to use statistics or machine learning to complete this project, but you should make it clear in your communications that your findings are tentative. This project is open-ended in that we are not looking for one right answer."
   ]
  },
  {
   "cell_type": "markdown",
   "metadata": {},
   "source": [
    "# Investigating the Titanic Dataset"
   ]
  },
  {
   "cell_type": "markdown",
   "metadata": {},
   "source": [
    "#### VARIABLE DESCRIPTIONS:\n",
    "- **survival** = Survival \n",
    "<dd>(0 = No; 1 = Yes)</dd>\n",
    "- **pclass** =          Passenger Class \n",
    "<dd>(1 = 1st; 2 = 2nd; 3 = 3rd)</dd>\n",
    "- **name** =            Name\n",
    "- **sex** =            Sex\n",
    "- **age**   =          Age\n",
    "- **sibsp** =          Number of Siblings/Spouses Aboard\n",
    "- **parch**    =       Number of Parents/Children Aboard\n",
    "- **ticket**    =      Ticket Number\n",
    "- **fare**       =     Passenger Fare\n",
    "- **cabin**      =     Cabin\n",
    "- **embarked**   =     Port of Embarkation \n",
    "<dd>(C = Cherbourg; Q = Queenstown; S = Southampton)</dd>\n",
    "\n",
    "**SPECIAL NOTES**:\n",
    "- Pclass is a proxy for socio-economic status (SES)\n",
    "<dd>1st ~ Upper; 2nd ~ Middle; 3rd ~ Lower</dd>\n",
    "\n",
    "- Age is in Years; Fractional if Age less than One (1)\n",
    "<dd>If the Age is Estimated, it is in the form xx.5</dd>\n",
    "\n",
    "- With respect to the family relation variables (i.e. sibsp and parch)some relations were ignored.  The following are the definitions used for sibsp and parch.\n",
    "\n",
    "- Sibling:  Brother, Sister, Stepbrother, or Stepsister of Passenger Aboard Titanic\n",
    "\n",
    "- Spouse:   Husband or Wife of Passenger Aboard Titanic (Mistresses and Fiances Ignored)\n",
    "\n",
    "- Parent:   Mother or Father of Passenger Aboard Titanic\n",
    "\n",
    "- Child:    Son, Daughter, Stepson, or Stepdaughter of Passenger Aboard Titanic\n",
    "\n",
    "- Other family relatives excluded from this study include cousins,\n",
    "nephews/nieces, aunts/uncles, and in-laws.  Some children travelled\n",
    "only with a nanny, therefore parch=0 for them.  As well, some\n",
    "travelled with very close friends or neighbors in a village, however,\n",
    "the definitions do not support such relations.\n",
    "\n",
    "## Resources:\n",
    "- http://stackoverflow.com/questions/15138973/how-to-get-the-number-of-the-most-frequent-value-in-a-column = find most frequent values in a column"
   ]
  },
  {
   "cell_type": "markdown",
   "metadata": {},
   "source": [
    "## Question 1: What factors made people most likely to survive? \n",
    "Was Sex, Age, SES, Number of Siblings/Spouses or Number of parents/children the most important factor to surviving?\n",
    "\n",
    "## Question 2: Is there a relationship between Age and Fare Cost?"
   ]
  },
  {
   "cell_type": "markdown",
   "metadata": {},
   "source": [
    "### Description\n",
    "\n",
    "For the project, I broke down the individual datasets by column and used value_counts() to see what the ratios of factors (such as sex/SES/age) were. I then computed the ratio of survivors to total people in each to find the proportion of people that survived. I used this to find out how important a factor was in survival by computing the largest/smallest proportion in each factor to determine the amount someone was likely to survive by being in that factor. This was what I then used to determine the most important factor.\n",
    "\n",
    "### Data Wrangling\n",
    "I did data wrangling for Age as it only had values for 714 passengers whereas the rest of the dataframe had values for 891. I removed all rows in the data where age didn't exist but only when doing analysis on age, I used the entire data set for the rest of the factors.\n",
    "\n",
    "### Limitations\n",
    "The limitations in this report are determining causation through speculation and correlation through ratios of survivors changing. I decided on the most important factor as the factor which had the greatest multiple resulting in surviving."
   ]
  },
  {
   "cell_type": "code",
   "execution_count": 2,
   "metadata": {
    "collapsed": true
   },
   "outputs": [],
   "source": [
    "# Imports for python\n",
    "import matplotlib.pyplot as plt\n",
    "import numpy as np\n",
    "import pandas as pd\n",
    "import seaborn as sns"
   ]
  },
  {
   "cell_type": "code",
   "execution_count": 3,
   "metadata": {
    "collapsed": true
   },
   "outputs": [],
   "source": [
    "# Reading in csv files\n",
    "data = pd.read_csv('titanic_data.csv')\n",
    "dropped = data.dropna()"
   ]
  },
  {
   "cell_type": "markdown",
   "metadata": {},
   "source": [
    "### Helper Functions"
   ]
  },
  {
   "cell_type": "code",
   "execution_count": 4,
   "metadata": {
    "collapsed": true
   },
   "outputs": [],
   "source": [
    "def correlation(x, y):\n",
    "    '''\n",
    "    Computes the correlation between the two input variables.\n",
    "    Each input is either a NumPy array or a Pandas Series.\n",
    "    \n",
    "    correlation = average of (x in standard units) times (y in standard units)\n",
    "    \n",
    "    Remember to pass the argument \"ddof=0\" to the Pandas std() function!\n",
    "    ddof = 1 because this is the whole population so don't need bessels correction.\n",
    "    '''\n",
    "    standardize_x = (x - x.mean())/x.std()\n",
    "    standardize_y = (y - y.mean())/y.std()\n",
    "\n",
    "    r = (standardize_x * standardize_y).mean()\n",
    "\n",
    "    return r"
   ]
  },
  {
   "cell_type": "code",
   "execution_count": 5,
   "metadata": {
    "collapsed": true
   },
   "outputs": [],
   "source": [
    "def standardize_data(values):\n",
    "    '''\n",
    "    This function returna a standardized version of the given values,\n",
    "    which will be in a NumPy array. \n",
    "    \n",
    "    Each value is translated into the number of standard deviations that\n",
    "    value is away from the mean of the data.\n",
    "    \n",
    "    A positive number indicates a value higher than the mean,\n",
    "    and a negative number indicates a value lower than the mean.\n",
    "    '''\n",
    "    \n",
    "    # = mean of sample - pop mean / sd\n",
    "    standardized = (values - values.mean())/values.std()\n",
    "    \n",
    "    return standardized"
   ]
  },
  {
   "cell_type": "code",
   "execution_count": 6,
   "metadata": {
    "collapsed": true
   },
   "outputs": [],
   "source": [
    "def find_ratio(first, second):\n",
    "    return (first/second)"
   ]
  },
  {
   "cell_type": "code",
   "execution_count": 7,
   "metadata": {
    "collapsed": true
   },
   "outputs": [],
   "source": [
    "def convert_age(age):\n",
    "    if age <= 12:\n",
    "        return 'Child'\n",
    "    elif age <= 19:\n",
    "        return 'Teen'\n",
    "    elif age <= 30:\n",
    "        return 'YoungAdult'\n",
    "    elif age <= 45:\n",
    "        return 'MidAdult'\n",
    "    elif age <= 60:\n",
    "        return 'OldAdult'\n",
    "    else:\n",
    "        return 'Elderly'\n",
    "\n",
    "def convert_ages(ages):\n",
    "    '''\n",
    "    Converts DataFrame of numerical ages to life categories. Returns new DataFrame with converted season.\n",
    "    \n",
    "    Conversion rule is:\n",
    "        0-12  -> Child\n",
    "        13-19 -> Teen\n",
    "        20-30 -> YoungAdult \n",
    "        31-45 -> MidAdult\n",
    "        46-60 -> OldAdult\n",
    "        60+   -> Elderly\n",
    "    '''\n",
    "    new_age = ages.apply(convert_age)\n",
    "    return new_age"
   ]
  },
  {
   "cell_type": "markdown",
   "metadata": {},
   "source": [
    "### 1.1) Sex"
   ]
  },
  {
   "cell_type": "code",
   "execution_count": 8,
   "metadata": {
    "collapsed": true
   },
   "outputs": [],
   "source": [
    "## Survivor and non-survivor data\n",
    "s_data = data.loc[data['Survived'] == 1]"
   ]
  },
  {
   "cell_type": "code",
   "execution_count": 9,
   "metadata": {
    "collapsed": false
   },
   "outputs": [],
   "source": [
    "## Number of female and male surivors/non-survivors\n",
    "sex_values = data['Sex'].value_counts()\n",
    "sex_s_values = s_data['Sex'].value_counts() + 0.0"
   ]
  },
  {
   "cell_type": "code",
   "execution_count": 10,
   "metadata": {
    "collapsed": false
   },
   "outputs": [
    {
     "name": "stdout",
     "output_type": "stream",
     "text": [
      "female    0.742038\n",
      "male      0.188908\n",
      "Name: Sex, dtype: float64\n",
      "\n",
      "3.92803716473\n"
     ]
    }
   ],
   "source": [
    "sex_s_ratio = find_ratio(sex_s_values, sex_values) # ratio of male/female survivors to total\n",
    "\n",
    "print sex_s_ratio\n",
    "print \"\"\n",
    "print sex_s_ratio['female']/sex_s_ratio['male']"
   ]
  },
  {
   "cell_type": "markdown",
   "metadata": {},
   "source": [
    "As can be seen in the associated values, 74.2% of females survived compared to only 18.9% of males. Therefore females were 3.92 times more likely to survive compared to males. This is likely because they were given priority on life boats."
   ]
  },
  {
   "cell_type": "markdown",
   "metadata": {
    "collapsed": false
   },
   "source": [
    "### 1.2) Age"
   ]
  },
  {
   "cell_type": "code",
   "execution_count": 11,
   "metadata": {
    "collapsed": false
   },
   "outputs": [],
   "source": [
    "## Cleaning up the data (714 entries for Age even though there are 891 passengers)\n",
    "age_data = data[np.isfinite(data['Age'])]"
   ]
  },
  {
   "cell_type": "code",
   "execution_count": 12,
   "metadata": {
    "collapsed": false
   },
   "outputs": [
    {
     "name": "stdout",
     "output_type": "stream",
     "text": [
      "Populating the interactive namespace from numpy and matplotlib\n"
     ]
    },
    {
     "data": {
      "text/plain": [
       "<matplotlib.text.Text at 0x116d4c790>"
      ]
     },
     "execution_count": 12,
     "metadata": {},
     "output_type": "execute_result"
    },
    {
     "data": {
      "image/png": "[encoded data removed]",
      "text/plain": [
       "<matplotlib.figure.Figure at 0x116b1ebd0>"
      ]
     },
     "metadata": {},
     "output_type": "display_data"
    }
   ],
   "source": [
    "## Seeing the frequency of each age category \n",
    "%pylab inline\n",
    "age_data['Age'].plot(kind='hist')\n",
    "\n",
    "plt.xlabel('Ages')\n",
    "plt.ylabel('Frequency')\n",
    "plt.title('Plot of the Frequency of Ages')"
   ]
  },
  {
   "cell_type": "code",
   "execution_count": 13,
   "metadata": {
    "collapsed": false
   },
   "outputs": [
    {
     "name": "stderr",
     "output_type": "stream",
     "text": [
      "/anaconda/lib/python2.7/site-packages/ipykernel/__main__.py:3: SettingWithCopyWarning: \n",
      "A value is trying to be set on a copy of a slice from a DataFrame.\n",
      "Try using .loc[row_indexer,col_indexer] = value instead\n",
      "\n",
      "See the caveats in the documentation: http://pandas.pydata.org/pandas-docs/stable/indexing.html#indexing-view-versus-copy\n",
      "  app.launch_new_instance()\n"
     ]
    }
   ],
   "source": [
    "## Converting ages into category's to do analysis on\n",
    "converted = convert_ages(age_data['Age'])\n",
    "age_data['Age'] = converted"
   ]
  },
  {
   "cell_type": "code",
   "execution_count": 14,
   "metadata": {
    "collapsed": true
   },
   "outputs": [],
   "source": [
    "## Age Survivor and non-survivor data\n",
    "age_s_data = age_data.loc[age_data['Survived'] == 1]"
   ]
  },
  {
   "cell_type": "code",
   "execution_count": 15,
   "metadata": {
    "collapsed": true
   },
   "outputs": [],
   "source": [
    "## Number of surivors/non-survivors in each age category\n",
    "age_values = age_data['Age'].value_counts()\n",
    "age_s_values = age_s_data['Age'].value_counts() + 0.0"
   ]
  },
  {
   "cell_type": "code",
   "execution_count": 16,
   "metadata": {
    "collapsed": false
   },
   "outputs": [
    {
     "name": "stdout",
     "output_type": "stream",
     "text": [
      "Elderly       0.227273\n",
      "YoungAdult    0.355102\n",
      "OldAdult      0.407407\n",
      "Teen          0.410526\n",
      "MidAdult      0.425743\n",
      "Child         0.579710\n",
      "Name: Age, dtype: float64\n",
      "\n",
      "Elderly       1.000000\n",
      "YoungAdult    1.562449\n",
      "OldAdult      1.792593\n",
      "Teen          1.806316\n",
      "MidAdult      1.873267\n",
      "Child         2.550725\n",
      "Name: Age, dtype: float64\n"
     ]
    }
   ],
   "source": [
    "age_s_ratio = find_ratio(age_s_values, age_values) # ratio of age type survivors to total\n",
    "\n",
    "print age_s_ratio.sort_values(inplace=False)\n",
    "print \"\"\n",
    "print (age_s_ratio/age_s_ratio['Elderly']).sort_values(inplace=False)"
   ]
  },
  {
   "cell_type": "code",
   "execution_count": 17,
   "metadata": {
    "collapsed": false
   },
   "outputs": [
    {
     "name": "stdout",
     "output_type": "stream",
     "text": [
      "Populating the interactive namespace from numpy and matplotlib\n"
     ]
    },
    {
     "data": {
      "text/plain": [
       "<matplotlib.text.Text at 0x1192c16d0>"
      ]
     },
     "execution_count": 17,
     "metadata": {},
     "output_type": "execute_result"
    },
    {
     "data": {
      "image/png": "[encoded data removed]",
      "text/plain": [
       "<matplotlib.figure.Figure at 0x116db3150>"
      ]
     },
     "metadata": {},
     "output_type": "display_data"
    }
   ],
   "source": [
    "%pylab inline\n",
    "import matplotlib.pyplot as plt\n",
    "\n",
    "age_s_ratio.sort_values(inplace=False).plot(kind='bar')\n",
    "\n",
    "plt.xlabel('Age Categories')\n",
    "plt.ylabel('Survival Rate Probability')\n",
    "plt.title('Survival Rate Probability for different Age Categories')"
   ]
  },
  {
   "cell_type": "code",
   "execution_count": 18,
   "metadata": {
    "collapsed": false
   },
   "outputs": [
    {
     "name": "stdout",
     "output_type": "stream",
     "text": [
      "Elderly      -1.523702\n",
      "YoungAdult   -0.402298\n",
      "OldAdult      0.056559\n",
      "Teen          0.083920\n",
      "MidAdult      0.217407\n",
      "Child         1.568114\n",
      "Name: Age, dtype: float64\n"
     ]
    }
   ],
   "source": [
    "s_standard = standardize_data(age_s_ratio)\n",
    "\n",
    "print s_standard.sort_values(inplace=False)"
   ]
  },
  {
   "cell_type": "markdown",
   "metadata": {},
   "source": [
    "As can be seen in the associated values and plots:\n",
    "- The elderly had a 22.7% chance of surviving\n",
    "- Young adults had a 35.5% chance of surviving\n",
    "- Old adults had a 40.7% chance of surviving\n",
    "- Teens had a 41.1% chance of surviving\n",
    "- Mid adults had a 42.6% chance of surviving\n",
    "- Children had a 58.0% chance of surviving\n",
    "\n",
    "Therefore children were 2.55 times more likely to survive than the elderly and were the most likely age group to survive. Again because they were given priority boarding on the life boats. Midadults were the next most likely as they were probably allowed to board with their children followed by teens, however more information is needed to determine this.\n",
    "\n",
    "By looking at the z scores for the data, none of the results are statistically significant (Child survival has a p value of 0.1169 which is not large enough to be significant by conventional criteria, see http://www.graphpad.com/quickcalcs/pValue2/ ). \n",
    "\n",
    "***Plots: There is a histogram plot of the frequency of ages and there is a bar plot of survival rate ratios for age.***"
   ]
  },
  {
   "cell_type": "markdown",
   "metadata": {},
   "source": [
    "### 1.3) Socio Economic Status (SES)"
   ]
  },
  {
   "cell_type": "code",
   "execution_count": 19,
   "metadata": {
    "collapsed": false
   },
   "outputs": [],
   "source": [
    "## Number of female and male surivors/non-survivors\n",
    "ses_values = data['Pclass'].value_counts()\n",
    "ses_s_values = s_data['Pclass'].value_counts() + 0.0"
   ]
  },
  {
   "cell_type": "code",
   "execution_count": 20,
   "metadata": {
    "collapsed": false
   },
   "outputs": [
    {
     "name": "stdout",
     "output_type": "stream",
     "text": [
      "1    0.629630\n",
      "2    0.472826\n",
      "3    0.242363\n",
      "Name: Pclass, dtype: float64\n",
      "\n",
      "1    2.597884\n",
      "2    1.950904\n",
      "3    1.000000\n",
      "Name: Pclass, dtype: float64\n"
     ]
    }
   ],
   "source": [
    "ses_s_ratio = find_ratio(ses_s_values, ses_values) # ratio of SES survivors to total\n",
    "\n",
    "print ses_s_ratio\n",
    "print \"\"\n",
    "print (ses_s_ratio/ses_s_ratio[3]).sort_values(inplace=False, ascending=False)"
   ]
  },
  {
   "cell_type": "markdown",
   "metadata": {},
   "source": [
    "As can be seen in the values and plots:\n",
    "- The First Class had a 62.3% chance of surviving\n",
    "- The Second Class had a 47.3% chance of surviving\n",
    "- The Third Class had a 24.2% chance of surviving\n",
    "\n",
    "Therefore passengers from First Class were 2.6 times more likely to survive than passengers from Third Class."
   ]
  },
  {
   "cell_type": "markdown",
   "metadata": {},
   "source": [
    "### 1.4) Number of Siblings/Spouse"
   ]
  },
  {
   "cell_type": "code",
   "execution_count": 21,
   "metadata": {
    "collapsed": false
   },
   "outputs": [],
   "source": [
    "## Number of sib/spouse surivors/non-survivors\n",
    "sibsp_values = data['SibSp'].value_counts()\n",
    "sibsp_s_values = s_data['SibSp'].value_counts() + 0.0"
   ]
  },
  {
   "cell_type": "code",
   "execution_count": 22,
   "metadata": {
    "collapsed": false
   },
   "outputs": [
    {
     "name": "stdout",
     "output_type": "stream",
     "text": [
      "0    0.345395\n",
      "1    0.535885\n",
      "2    0.464286\n",
      "3    0.250000\n",
      "4    0.166667\n",
      "5         NaN\n",
      "8         NaN\n",
      "Name: SibSp, dtype: float64\n",
      "\n",
      "1    3.215311\n",
      "2    2.785714\n",
      "0    2.072368\n",
      "3    1.500000\n",
      "4    1.000000\n",
      "5         NaN\n",
      "8         NaN\n",
      "Name: SibSp, dtype: float64\n"
     ]
    }
   ],
   "source": [
    "sibsp_s_ratio = find_ratio(sibsp_s_values, sibsp_values) # ratio of Siblings/spouse survivors to total\n",
    "\n",
    "print sibsp_s_ratio\n",
    "print \"\"\n",
    "print (sibsp_s_ratio/sibsp_s_ratio[4]).sort_values(inplace=False, ascending=False)"
   ]
  },
  {
   "cell_type": "code",
   "execution_count": 23,
   "metadata": {
    "collapsed": false
   },
   "outputs": [
    {
     "data": {
      "text/plain": [
       "<matplotlib.text.Text at 0x1195f42d0>"
      ]
     },
     "execution_count": 23,
     "metadata": {},
     "output_type": "execute_result"
    },
    {
     "data": {
      "image/png": "[encoded data removed]",
      "text/plain": [
       "<matplotlib.figure.Figure at 0x116db3290>"
      ]
     },
     "metadata": {},
     "output_type": "display_data"
    }
   ],
   "source": [
    "sibsp_s_ratio.plot(kind='bar')\n",
    "\n",
    "plt.xlabel('No. of Sibings/Spouses')\n",
    "plt.ylabel('Survival Rate Probability')\n",
    "plt.title('Survival Rate Probability for different No. of Sibings/Spouses')"
   ]
  },
  {
   "cell_type": "markdown",
   "metadata": {},
   "source": [
    "There is a positive skew between number of siblings/spouse and surviving onboard as having 0-2 siblings/spouse onboard increased the chances of survival by 2-3 times.\n"
   ]
  },
  {
   "cell_type": "markdown",
   "metadata": {},
   "source": [
    "### 1.5) Number of Parents/Children"
   ]
  },
  {
   "cell_type": "code",
   "execution_count": 24,
   "metadata": {
    "collapsed": true
   },
   "outputs": [],
   "source": [
    "## Number of female and male surivors/non-survivors\n",
    "parch_values = data['Parch'].value_counts()\n",
    "parch_s_values = s_data['Parch'].value_counts() + 0.0"
   ]
  },
  {
   "cell_type": "code",
   "execution_count": 25,
   "metadata": {
    "collapsed": false
   },
   "outputs": [
    {
     "name": "stdout",
     "output_type": "stream",
     "text": [
      "5    0.200000\n",
      "0    0.343658\n",
      "2    0.500000\n",
      "1    0.550847\n",
      "3    0.600000\n",
      "4         NaN\n",
      "6         NaN\n",
      "Name: Parch, dtype: float64\n",
      "\n",
      "3    3.000000\n",
      "1    2.754237\n",
      "2    2.500000\n",
      "0    1.718289\n",
      "5    1.000000\n",
      "4         NaN\n",
      "6         NaN\n",
      "Name: Parch, dtype: float64\n"
     ]
    }
   ],
   "source": [
    "parch_s_ratio = find_ratio(parch_s_values, parch_values) # ratio of parents/children survivors to total\n",
    "\n",
    "print parch_s_ratio.sort_values(inplace=False)\n",
    "print \"\"\n",
    "print (parch_s_ratio/parch_s_ratio[5]).sort_values(inplace=False, ascending=False)"
   ]
  },
  {
   "cell_type": "markdown",
   "metadata": {},
   "source": [
    "There is a positive skew between having children/parents onboard and surviving as having 1-3 children onboard increased the chances of survival by 2.5-3 times."
   ]
  },
  {
   "cell_type": "markdown",
   "metadata": {},
   "source": [
    "### 1.6) Age & Sex"
   ]
  },
  {
   "cell_type": "code",
   "execution_count": 26,
   "metadata": {
    "collapsed": false
   },
   "outputs": [],
   "source": [
    "## Finding the values of each sex within each age category\n",
    "elderly = age_s_data.loc[age_s_data['Age'] == 'Elderly']['Sex'].value_counts() + 0.0\n",
    "youngad = age_s_data.loc[age_s_data['Age'] == 'YoungAdult']['Sex'].value_counts() + 0.0\n",
    "oldad = age_s_data.loc[age_s_data['Age'] == 'OldAdult']['Sex'].value_counts() + 0.0\n",
    "teen = age_s_data.loc[age_s_data['Age'] == 'Teen']['Sex'].value_counts() + 0.0\n",
    "midad = age_s_data.loc[age_s_data['Age'] == 'MidAdult']['Sex'].value_counts() + 0.0\n",
    "child = age_s_data.loc[age_s_data['Age'] == 'Child']['Sex'].value_counts() + 0.0"
   ]
  },
  {
   "cell_type": "code",
   "execution_count": 27,
   "metadata": {
    "collapsed": false
   },
   "outputs": [],
   "source": [
    "## Finding the values of each sex within each age category and putting them into dataframes\n",
    "maleser = [elderly['male'], youngad['male'], oldad['male'], teen['male'], midad['male'], child['male']]\n",
    "femaleser = [elderly['female'], youngad['female'], oldad['female'], teen['female'], midad['female'], child['female']]\n",
    "\n",
    "types = ['Elderly','YoungAdult','OldAdult', 'Teen' ,'MidAdult', 'Child']\n",
    "\n",
    "malef = pd.DataFrame({'males':maleser, 'category': types}, index = ['Elderly','YoungAdult','OldAdult', 'Teen' ,'MidAdult', 'Child'])\n",
    "femalef = pd.DataFrame({'females':femaleser, 'category': types}, index = ['Elderly','YoungAdult','OldAdult', 'Teen' ,'MidAdult', 'Child'])"
   ]
  },
  {
   "cell_type": "code",
   "execution_count": 28,
   "metadata": {
    "collapsed": false
   },
   "outputs": [],
   "source": [
    "## Merging the female and male dataframes.\n",
    "merged = malef.merge(femalef, on=['category'], how='inner', left_index=True)"
   ]
  },
  {
   "cell_type": "code",
   "execution_count": 29,
   "metadata": {
    "collapsed": false
   },
   "outputs": [],
   "source": [
    "## Finding values for males and females in their associated age groups.\n",
    "male_values = age_data.loc[age_data['Sex'] == 'male']['Age'].value_counts()\n",
    "female_values = age_data.loc[age_data['Sex'] == 'male']['Age'].value_counts()"
   ]
  },
  {
   "cell_type": "code",
   "execution_count": 30,
   "metadata": {
    "collapsed": false
   },
   "outputs": [
    {
     "name": "stdout",
     "output_type": "stream",
     "text": [
      "Males:\n",
      "Child         0.567568\n",
      "MidAdult      0.224806\n",
      "OldAdult      0.185185\n",
      "YoungAdult    0.160494\n",
      "Elderly       0.105263\n",
      "Teen          0.096154\n",
      "dtype: float64\n",
      "\n",
      "Females:\n",
      "Teen          0.653846\n",
      "Child         0.513514\n",
      "MidAdult      0.441860\n",
      "OldAdult      0.425926\n",
      "YoungAdult    0.376543\n",
      "Elderly       0.157895\n",
      "dtype: float64\n",
      "\n"
     ]
    }
   ],
   "source": [
    "male_ratio = find_ratio(merged['males'], male_values)\n",
    "female_ratio = find_ratio(merged['females'], female_values)\n",
    "\n",
    "print \"Males:\"\n",
    "print male_ratio.sort_values(inplace=False, ascending=False)# ratio of male age type survivors to total\n",
    "print \"\"\n",
    "print \"Females:\"\n",
    "print female_ratio.sort_values(inplace=False, ascending=False) # ratio of female age type survivors to total\n",
    "print \"\""
   ]
  },
  {
   "cell_type": "code",
   "execution_count": 31,
   "metadata": {
    "collapsed": false
   },
   "outputs": [
    {
     "name": "stdout",
     "output_type": "stream",
     "text": [
      "Males:\n",
      "Child         5.902703\n",
      "MidAdult      2.337984\n",
      "OldAdult      1.925926\n",
      "YoungAdult    1.669136\n",
      "Elderly       1.094737\n",
      "Teen          1.000000\n",
      "dtype: float64\n",
      "\n",
      "Females:\n",
      "Teen          4.141026\n",
      "Child         3.252252\n",
      "MidAdult      2.798450\n",
      "OldAdult      2.697531\n",
      "YoungAdult    2.384774\n",
      "Elderly       1.000000\n",
      "dtype: float64\n"
     ]
    }
   ],
   "source": [
    "print \"Males:\"\n",
    "print (male_ratio/male_ratio['Teen']).sort_values(inplace=False, ascending=False)\n",
    "print \"\"\n",
    "print \"Females:\"\n",
    "print (female_ratio/female_ratio['Elderly']).sort_values(inplace=False, ascending=False)"
   ]
  },
  {
   "cell_type": "markdown",
   "metadata": {},
   "source": [
    "The age groups with the lowest ratio of males to females were more likely to survive (3 lowest ratios had the 3 highest survival rates).\n",
    "\n",
    "As can be seen in the associated values and plots:\n",
    "- The elderly males/females had a 10.5%/15.8% chance of surviving\n",
    "- Young adult males/females had a 16.0%/37.7% chance of surviving\n",
    "- Old adults males/females had a 18.5%/42.6% chance of surviving\n",
    "- Teen males/females had a 9.6%/65.4% chance of surviving\n",
    "- Mid adult males/females had a 22.5%/44.2% chance of surviving\n",
    "- Child males/females had a 56.8%/51.4% chance of surviving\n",
    "\n",
    "This means male Children were the most likely to survive and were 6 times more likely to survive than male Teens and 3 times more likely to survive than anyone else male. Female teens were most likely to survive being 4.1 times more likely to survive than the elderly however, child females were also likely to survive (3.1 times more likely than the elderly).\n",
    "\n",
    "As can be seen from the values above, females from any age group were almost always more likely to survive then men (other than children - very close)."
   ]
  },
  {
   "cell_type": "markdown",
   "metadata": {},
   "source": [
    "### 2) Age & Fare"
   ]
  },
  {
   "cell_type": "code",
   "execution_count": 32,
   "metadata": {
    "collapsed": false
   },
   "outputs": [],
   "source": [
    "## Resetting Age_data to original age values instead of age categorys\n",
    "age_data = data[np.isfinite(data['Age'])]"
   ]
  },
  {
   "cell_type": "code",
   "execution_count": 33,
   "metadata": {
    "collapsed": false
   },
   "outputs": [
    {
     "name": "stdout",
     "output_type": "stream",
     "text": [
      "0.0959321445817\n"
     ]
    }
   ],
   "source": [
    "print correlation(age_data['Fare'], age_data['Age'])"
   ]
  },
  {
   "cell_type": "code",
   "execution_count": 39,
   "metadata": {
    "collapsed": false
   },
   "outputs": [
    {
     "name": "stdout",
     "output_type": "stream",
     "text": [
      "Populating the interactive namespace from numpy and matplotlib\n"
     ]
    },
    {
     "data": {
      "text/plain": [
       "<matplotlib.text.Text at 0x11a56fb50>"
      ]
     },
     "execution_count": 39,
     "metadata": {},
     "output_type": "execute_result"
    },
    {
     "data": {
      "image/png": "[encoded data removed]",
      "text/plain": [
       "<matplotlib.figure.Figure at 0x119eb2bd0>"
      ]
     },
     "metadata": {},
     "output_type": "display_data"
    }
   ],
   "source": [
    "%pylab inline\n",
    "import matplotlib.pyplot as plt\n",
    "\n",
    "g = sns.pairplot(age_data, size=6,\n",
    "             #vars = ['Age','Fare'],\n",
    "             x_vars = ['Age'],\n",
    "             y_vars = ['Fare'],\n",
    "             kind = 'reg')\n",
    "g.set(xlim=(0, None))\n",
    "g.set(ylim=(0,100))\n",
    "\n",
    "plt.title('Plot of Age to Fare Cost')"
   ]
  },
  {
   "cell_type": "markdown",
   "metadata": {},
   "source": [
    "The r value for Age and Fare is only 0.096, which implies there is a small correlation between age and fare. The plot corroborates this by having a a slight increase in gradient in the Line of Best Fit."
   ]
  },
  {
   "cell_type": "markdown",
   "metadata": {},
   "source": [
    "## Conclusion\n",
    "### Question 1 - What factors made people most likely to survive? \n",
    "From my analysis, the factor most associated with survival was sex (females were almost 4 times more likely to survive than males). Age & Sex had a minor impact for males with only the children substantially surviving more, whereas females were consistently more likely to survive than males regardless of age group.\n",
    "\n",
    "I believe females were more likely to survive as they were given priority seating on life boats as well as children.\n",
    "\n",
    "### Question 2: Is there a relationship between Age and Fare Cost?\n",
    "Both the plot and r values indicates there's a slight positive correlation between age and fare."
   ]
  }
 ],
 "metadata": {
  "anaconda-cloud": {},
  "kernelspec": {
   "display_name": "Python [Root]",
   "language": "python",
   "name": "Python [Root]"
  },
  "language_info": {
   "codemirror_mode": {
    "name": "ipython",
    "version": 2
   },
   "file_extension": ".py",
   "mimetype": "text/x-python",
   "name": "python",
   "nbconvert_exporter": "python",
   "pygments_lexer": "ipython2",
   "version": "2.7.12"
  }
 },
 "nbformat": 4,
 "nbformat_minor": 0
}
